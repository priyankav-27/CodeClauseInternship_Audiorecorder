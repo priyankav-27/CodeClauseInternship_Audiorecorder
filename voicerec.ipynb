{
 "cells": [
  {
   "cell_type": "code",
   "execution_count": 7,
   "metadata": {},
   "outputs": [],
   "source": [
    "import tkinter as tk\n",
    "import sounddevice as sd\n",
    "import wavio\n",
    "import os\n",
    "\n",
    "class AudioRecorderApp:\n",
    "    def __init__(self, master):\n",
    "        self.master = master\n",
    "        master.title(\"Audio Recorder\")\n",
    "\n",
    "        # Configure styles\n",
    "        self.master.configure(bg=\"#f0f0f0\")\n",
    "        self.master.geometry(\"400x250\")\n",
    "\n",
    "        self.title_label = tk.Label(master, text=\"Audio Recorder\", bg=\"#f0f0f0\", fg=\"#333\", font=(\"Roboto\", 16, \"bold\"))\n",
    "        self.title_label.pack(pady=10)\n",
    "\n",
    "        self.duration_frame = tk.Frame(master, bg=\"#f0f0f0\")\n",
    "        self.duration_frame.pack()\n",
    "        self.duration_label = tk.Label(self.duration_frame, text=\"Duration (seconds):\", bg=\"#f0f0f0\", fg=\"#333\")\n",
    "        self.duration_label.pack(side=tk.LEFT, padx=(10, 5))\n",
    "        self.duration_entry = tk.Entry(self.duration_frame)\n",
    "        self.duration_entry.pack(side=tk.RIGHT, padx=(5, 10))\n",
    "\n",
    "        self.filename_frame = tk.Frame(master, bg=\"#f0f0f0\")\n",
    "        self.filename_frame.pack()\n",
    "        self.filename_label = tk.Label(self.filename_frame, text=\"Filename:\", bg=\"#f0f0f0\", fg=\"#333\")\n",
    "        self.filename_label.pack(side=tk.LEFT, padx=(10, 5))\n",
    "        self.filename_entry = tk.Entry(self.filename_frame)\n",
    "        self.filename_entry.pack(side=tk.RIGHT, padx=(5, 10))\n",
    "\n",
    "        self.record_button = tk.Button(master, text=\"Record\", command=self.record_audio, bg=\"#3498db\", fg=\"black\", font=(\"Roboto\", 12,\"bold\"))\n",
    "        self.record_button.pack(pady=10, ipadx=20, ipady=5)\n",
    "\n",
    "        # Listbox to display recorded files\n",
    "        self.files_listbox = tk.Listbox(master, width=50, height=6)\n",
    "        self.files_listbox.pack(pady=10)\n",
    "\n",
    "        # Set default save directory\n",
    "        self.save_dir = \"recordings\"\n",
    "        os.makedirs(self.save_dir, exist_ok=True)\n",
    "\n",
    "        # Populate the listbox with existing files\n",
    "        self.update_files_list()\n",
    "\n",
    "    def record_audio(self):\n",
    "        duration = int(self.duration_entry.get())\n",
    "        filename = self.filename_entry.get()\n",
    "\n",
    "        self.record_button.config(state=tk.DISABLED)  # Disable record button during recording\n",
    "\n",
    "        self.record_button.config(text=\"Recording...\", bg=\"#ff5733\")\n",
    "        self.master.update()\n",
    "\n",
    "        audio = sd.rec(int(duration * 44100), samplerate=44100, channels=2, dtype='int16')\n",
    "        sd.wait()\n",
    "\n",
    "        self.record_button.config(text=\"Record\", bg=\"#4CAF50\")\n",
    "        self.master.update()\n",
    "\n",
    "        # Save recorded audio to a file\n",
    "        filepath = os.path.join(self.save_dir, filename + \".wav\")\n",
    "        wavio.write(filepath, audio, 44100, sampwidth=2)\n",
    "        print(\"Audio saved as\", filename)\n",
    "\n",
    "        # Clear the filename entry after saving\n",
    "        self.filename_entry.delete(0, tk.END)\n",
    "\n",
    "        # Update the list of recorded files\n",
    "        self.update_files_list()\n",
    "\n",
    "        self.record_button.config(state=tk.NORMAL)  # Re-enable record button after recording\n",
    "\n",
    "    def update_files_list(self):\n",
    "        # Clear the listbox\n",
    "        self.files_listbox.delete(0, tk.END)\n",
    "\n",
    "        # Populate the listbox with recorded files\n",
    "        files = os.listdir(self.save_dir)\n",
    "        for file in files:\n",
    "            if file.endswith(\".wav\"):\n",
    "                self.files_listbox.insert(tk.END, file)\n",
    "\n",
    "def main():\n",
    "    root = tk.Tk()\n",
    "    app = AudioRecorderApp(root)\n",
    "    root.mainloop()\n",
    "\n",
    "if __name__ == \"__main__\":\n",
    "    main()\n"
   ]
  },
  {
   "cell_type": "code",
   "execution_count": 2,
   "metadata": {},
   "outputs": [
    {
     "name": "stdout",
     "output_type": "stream",
     "text": [
      "Current directory: c:\\Users\\priya\\AppData\\Local\\Temp\\b1260a07-9e2b-417f-9cbf-5b2eaf66e898_pa_stable_v190700_20210406.tgz.898\\portaudio\n"
     ]
    }
   ],
   "source": [
    "import os\n",
    "\n",
    "current_directory = os.getcwd()\n",
    "print(\"Current directory:\", current_directory)\n"
   ]
  },
  {
   "cell_type": "code",
   "execution_count": 47,
   "metadata": {},
   "outputs": [
    {
     "name": "stdout",
     "output_type": "stream",
     "text": [
      "Collecting pyaudio\n",
      "  Downloading PyAudio-0.2.14-cp311-cp311-win_amd64.whl.metadata (2.7 kB)\n",
      "Downloading PyAudio-0.2.14-cp311-cp311-win_amd64.whl (164 kB)\n",
      "   ---------------------------------------- 0.0/164.1 kB ? eta -:--:--\n",
      "   ---------------------------------------- 0.0/164.1 kB ? eta -:--:--\n",
      "   ------- -------------------------------- 30.7/164.1 kB ? eta -:--:--\n",
      "   -------------- ------------------------- 61.4/164.1 kB 1.1 MB/s eta 0:00:01\n",
      "   ---------------------------------------- 164.1/164.1 kB 2.0 MB/s eta 0:00:00\n",
      "Installing collected packages: pyaudio\n",
      "Successfully installed pyaudio-0.2.14\n",
      "Note: you may need to restart the kernel to use updated packages.\n"
     ]
    }
   ],
   "source": [
    "pip install pyaudio\n"
   ]
  },
  {
   "cell_type": "code",
   "execution_count": 4,
   "metadata": {},
   "outputs": [
    {
     "name": "stdout",
     "output_type": "stream",
     "text": [
      "Collecting pillow\n",
      "  Downloading pillow-10.3.0-cp311-cp311-win_amd64.whl.metadata (9.4 kB)\n",
      "Downloading pillow-10.3.0-cp311-cp311-win_amd64.whl (2.5 MB)\n",
      "   ---------------------------------------- 0.0/2.5 MB ? eta -:--:--\n",
      "   ---------------------------------------- 0.0/2.5 MB ? eta -:--:--\n",
      "   ---------------------------------------- 0.0/2.5 MB ? eta -:--:--\n",
      "   ---------------------------------------- 0.0/2.5 MB ? eta -:--:--\n",
      "   ---------------------------------------- 0.0/2.5 MB ? eta -:--:--\n",
      "   - -------------------------------------- 0.1/2.5 MB 770.8 kB/s eta 0:00:04\n",
      "   ------ --------------------------------- 0.4/2.5 MB 3.1 MB/s eta 0:00:01\n",
      "   ----------------------- ---------------- 1.5/2.5 MB 5.9 MB/s eta 0:00:01\n",
      "   --------------------------------- ------ 2.1/2.5 MB 7.8 MB/s eta 0:00:01\n",
      "   ------------------------------------- -- 2.4/2.5 MB 7.6 MB/s eta 0:00:01\n",
      "   ------------------------------------- -- 2.4/2.5 MB 7.6 MB/s eta 0:00:01\n",
      "   ------------------------------------- -- 2.4/2.5 MB 7.6 MB/s eta 0:00:01\n",
      "   ------------------------------------- -- 2.4/2.5 MB 7.6 MB/s eta 0:00:01\n",
      "   ------------------------------------- -- 2.4/2.5 MB 7.6 MB/s eta 0:00:01\n",
      "   ------------------------------------- -- 2.4/2.5 MB 7.6 MB/s eta 0:00:01\n",
      "   -------------------------------------- - 2.4/2.5 MB 3.8 MB/s eta 0:00:01\n",
      "   -------------------------------------- - 2.5/2.5 MB 3.9 MB/s eta 0:00:01\n",
      "   -------------------------------------- - 2.5/2.5 MB 3.9 MB/s eta 0:00:01\n",
      "   ---------------------------------------  2.5/2.5 MB 3.5 MB/s eta 0:00:01\n",
      "   ---------------------------------------- 2.5/2.5 MB 3.1 MB/s eta 0:00:00\n",
      "Installing collected packages: pillow\n",
      "Successfully installed pillow-10.3.0\n",
      "Note: you may need to restart the kernel to use updated packages.\n"
     ]
    }
   ],
   "source": [
    "pip install pillow\n"
   ]
  },
  {
   "cell_type": "code",
   "execution_count": 16,
   "metadata": {},
   "outputs": [
    {
     "name": "stdout",
     "output_type": "stream",
     "text": [
      "Collecting wavioNote: you may need to restart the kernel to use updated packages.\n",
      "\n",
      "  Downloading wavio-0.0.8-py3-none-any.whl.metadata (5.7 kB)\n",
      "Requirement already satisfied: numpy>=1.19.0 in c:\\users\\priya\\appdata\\local\\programs\\python\\python311\\lib\\site-packages (from wavio) (1.26.4)\n",
      "Downloading wavio-0.0.8-py3-none-any.whl (9.4 kB)\n",
      "Installing collected packages: wavio\n",
      "Successfully installed wavio-0.0.8\n"
     ]
    }
   ],
   "source": [
    "pip install wavio\n"
   ]
  },
  {
   "cell_type": "code",
   "execution_count": 6,
   "metadata": {},
   "outputs": [
    {
     "name": "stdout",
     "output_type": "stream",
     "text": [
      "Collecting sounddevice\n",
      "  Downloading sounddevice-0.4.6-py3-none-win_amd64.whl.metadata (1.4 kB)\n",
      "Requirement already satisfied: CFFI>=1.0 in c:\\users\\priya\\appdata\\local\\programs\\python\\python311\\lib\\site-packages (from sounddevice) (1.16.0)\n",
      "Requirement already satisfied: pycparser in c:\\users\\priya\\appdata\\local\\programs\\python\\python311\\lib\\site-packages (from CFFI>=1.0->sounddevice) (2.21)\n",
      "Downloading sounddevice-0.4.6-py3-none-win_amd64.whl (199 kB)\n",
      "   ---------------------------------------- 0.0/199.7 kB ? eta -:--:--\n",
      "   ---------------------------------------- 0.0/199.7 kB ? eta -:--:--\n",
      "   ---------------------------------------- 0.0/199.7 kB ? eta -:--:--\n",
      "   ---------------------------------------- 0.0/199.7 kB ? eta -:--:--\n",
      "   ------ --------------------------------- 30.7/199.7 kB ? eta -:--:--\n",
      "   ------ --------------------------------- 30.7/199.7 kB ? eta -:--:--\n",
      "   ------------------- ------------------ 102.4/199.7 kB 737.3 kB/s eta 0:00:01\n",
      "   ---------------------------------------- 199.7/199.7 kB 1.2 MB/s eta 0:00:00\n",
      "Installing collected packages: sounddevice\n",
      "Successfully installed sounddevice-0.4.6\n",
      "Note: you may need to restart the kernel to use updated packages.\n"
     ]
    }
   ],
   "source": [
    "pip install sounddevice\n"
   ]
  }
 ],
 "metadata": {
  "kernelspec": {
   "display_name": "Python 3",
   "language": "python",
   "name": "python3"
  },
  "language_info": {
   "codemirror_mode": {
    "name": "ipython",
    "version": 3
   },
   "file_extension": ".py",
   "mimetype": "text/x-python",
   "name": "python",
   "nbconvert_exporter": "python",
   "pygments_lexer": "ipython3",
   "version": "3.11.5"
  }
 },
 "nbformat": 4,
 "nbformat_minor": 2
}
